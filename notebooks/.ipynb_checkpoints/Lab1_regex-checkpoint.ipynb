{
 "cells": [
  {
   "cell_type": "markdown",
   "metadata": {
    "id": "1UetmBnBtqJ8"
   },
   "source": [
    "# 1. Loading data"
   ]
  },
  {
   "cell_type": "code",
   "execution_count": 1,
   "metadata": {
    "id": "svn1qSw2tqJ-"
   },
   "outputs": [
    {
     "name": "stderr",
     "output_type": "stream",
     "text": [
      "[nltk_data] Downloading package punkt_tab to /home/jovyan/nltk_data...\n",
      "[nltk_data]   Package punkt_tab is already up-to-date!\n"
     ]
    }
   ],
   "source": [
    "import nltk\n",
    "nltk.download('punkt_tab')\n",
    "# nltk.download() #for the missing library\n",
    "f = open('books.txt', encoding='utf-8')\n",
    "raw = f.read()\n",
    "tokens = nltk.word_tokenize(raw)"
   ]
  },
  {
   "cell_type": "code",
   "execution_count": 2,
   "metadata": {
    "id": "nf0L1yoGtqJ_"
   },
   "outputs": [
    {
     "name": "stdout",
     "output_type": "stream",
     "text": [
      "[',', 'eating', 'banquets', 'in', 'the', 'Great', 'Hall', ',', 'sleep\\xading', 'in', 'his', 'four-poster', 'bed', 'in', 'the', 'tower', 'dormitory', ',', 'visiting', 'the', 'gamekeeper', ',', 'Hagrid', ',', 'in', 'his', 'cabin', 'next', 'to', 'the', 'Forbidden', 'Forest', 'in', 'the', 'grounds', ',', 'and', ',', 'especially', ',', 'Quidditch', ',', 'the', 'most', 'popular', 'sport', 'in', 'the', 'wizarding', 'world', '(', 'six', 'tall', 'goal', 'posts', ',', 'four', 'flying', 'balls', ',', 'and', 'four\\xadteen', 'players', 'on', 'broomsticks', ')', '.', 'All', 'Harry', '’', 's', 'spellbooks', ',', 'his', 'wand', ',', 'robes', ',', 'cauldron', ',', 'and', 'top-of-the-line', 'Nimbus', 'Two', 'Thousand', 'broomstick', 'had', 'been', 'locked', 'in', 'a', 'cupboard', 'under', 'the', 'stairs', 'by', 'Uncle', 'Vernon', 'the', 'instant']\n"
     ]
    }
   ],
   "source": [
    "print(tokens[1000:1100])"
   ]
  },
  {
   "cell_type": "markdown",
   "metadata": {
    "id": "4fD14zKatqJ_"
   },
   "source": [
    "# 2. Regular expression"
   ]
  },
  {
   "cell_type": "code",
   "execution_count": null,
   "metadata": {
    "id": "jqFlstJ5tqJ_"
   },
   "outputs": [],
   "source": [
    "tokens = [w.lower() for w in tokens]"
   ]
  },
  {
   "cell_type": "code",
   "execution_count": null,
   "metadata": {
    "id": "RBj9GUiitqKA"
   },
   "outputs": [],
   "source": [
    "import re\n",
    "\n",
    "[w for w in tokens if re.search('ed$', w)]"
   ]
  },
  {
   "cell_type": "markdown",
   "metadata": {
    "id": "Pae2H5xm3iwU"
   },
   "source": [
    "What kind of input that matches, and what do not? Also, give a brief explanation.\n",
    "\n",
    "Ans:"
   ]
  },
  {
   "cell_type": "code",
   "execution_count": null,
   "metadata": {
    "id": "EJnFJbYNtqKA"
   },
   "outputs": [],
   "source": [
    "[w for w in tokens if re.search('^..j..t..$', w)]"
   ]
  },
  {
   "cell_type": "markdown",
   "metadata": {
    "id": "DqBuWKiY3wr3"
   },
   "source": [
    "What kind of input that matches, and what do not? Also, give a brief explanation.\n",
    "\n",
    "Ans:"
   ]
  },
  {
   "cell_type": "code",
   "execution_count": null,
   "metadata": {
    "id": "xx817PT4tqKA"
   },
   "outputs": [],
   "source": [
    "[w for w in tokens if re.search('^spo.ts?$', w)]"
   ]
  },
  {
   "cell_type": "markdown",
   "metadata": {
    "id": "GGPqQ1cw4B0F"
   },
   "source": [
    "What kind of input that matches, and what do not? Also, give a brief explanation.\n",
    "\n",
    "Ans:"
   ]
  },
  {
   "cell_type": "code",
   "execution_count": null,
   "metadata": {
    "id": "HfL6pzmdtqKA"
   },
   "outputs": [],
   "source": [
    "[w for w in tokens if re.search('^[b-f]', w)]"
   ]
  },
  {
   "cell_type": "markdown",
   "metadata": {
    "id": "OBc81Lun4CyE"
   },
   "source": [
    "What kind of input that matches, and what do not? Also, give a brief explanation.\n",
    "\n",
    "Ans:"
   ]
  },
  {
   "cell_type": "code",
   "execution_count": null,
   "metadata": {
    "id": "E3zlGVrVtqKB"
   },
   "outputs": [],
   "source": [
    "[w for w in tokens if re.search('^[bdf][aue][rts]$', w)]"
   ]
  },
  {
   "cell_type": "markdown",
   "metadata": {
    "id": "ug7-POss4DpM"
   },
   "source": [
    "What kind of input that matches, and what do not? Also, give a brief explanation.\n",
    "\n",
    "Ans:"
   ]
  },
  {
   "cell_type": "code",
   "execution_count": null,
   "metadata": {
    "id": "pdEYsV4FtqKB"
   },
   "outputs": [],
   "source": [
    "set([w for w in tokens if re.search('noo+$', w)])"
   ]
  },
  {
   "cell_type": "markdown",
   "metadata": {
    "id": "cFBSfhgI4E2G"
   },
   "source": [
    "What kind of input that matches, and what do not? Also, give a brief explanation.\n",
    "\n",
    "Ans:"
   ]
  },
  {
   "cell_type": "code",
   "execution_count": null,
   "metadata": {
    "id": "F-pZ5jRRtqKB"
   },
   "outputs": [],
   "source": [
    "set([w for w in tokens if re.search('noo*$', w)])"
   ]
  },
  {
   "cell_type": "markdown",
   "metadata": {
    "id": "u04l5n-K4JPn"
   },
   "source": [
    "What kind of input that matches, and what do not? Also, give a brief explanation.\n",
    "\n",
    "Ans:"
   ]
  },
  {
   "cell_type": "code",
   "execution_count": null,
   "metadata": {
    "id": "2wYcwl4rtqKB"
   },
   "outputs": [],
   "source": [
    "[w for w in tokens if re.search('\\.+$', w)]"
   ]
  },
  {
   "cell_type": "markdown",
   "metadata": {
    "id": "irm7CgvX4KHZ"
   },
   "source": [
    "What kind of input that matches, and what do not? Also, give a brief explanation.\n",
    "\n",
    "Ans:"
   ]
  },
  {
   "cell_type": "code",
   "execution_count": null,
   "metadata": {
    "id": "7-6LdLWstqKB"
   },
   "outputs": [],
   "source": [
    "[w for w in tokens if re.search('^[A-Z]+\\.$', w)]"
   ]
  },
  {
   "cell_type": "markdown",
   "metadata": {
    "id": "7VUNwZ0R4K9H"
   },
   "source": [
    "What kind of input that matches, and what do not? Also, give a brief explanation.\n",
    "\n",
    "Ans:"
   ]
  },
  {
   "cell_type": "code",
   "execution_count": null,
   "metadata": {
    "id": "h8grUWgWtqKB"
   },
   "outputs": [],
   "source": [
    "[w for w in tokens if re.search('^[0-9]{4}$', w)]"
   ]
  },
  {
   "cell_type": "markdown",
   "metadata": {
    "id": "vCbnvhvg4NeT"
   },
   "source": [
    "What kind of input that matches, and what do not? Also, give a brief explanation.\n",
    "\n",
    "Ans:"
   ]
  },
  {
   "cell_type": "code",
   "execution_count": null,
   "metadata": {
    "id": "AanZKHmctqKB"
   },
   "outputs": [],
   "source": [
    "set([w for w in tokens if re.search('(ed|ing)$', w)])"
   ]
  },
  {
   "cell_type": "markdown",
   "metadata": {
    "id": "bXgCHKQ_4PHd"
   },
   "source": [
    "What kind of input that matches, and what do not? Also, give a brief explanation.\n",
    "\n",
    "Ans:"
   ]
  },
  {
   "cell_type": "markdown",
   "metadata": {
    "id": "yXfRNGq3tqKB"
   },
   "source": [
    "# 3. Regular expression tokenizer"
   ]
  },
  {
   "cell_type": "markdown",
   "metadata": {
    "id": "d1v_GcUZtqKB"
   },
   "source": [
    "## 3.1 Basic regex tokenizer"
   ]
  },
  {
   "cell_type": "code",
   "execution_count": null,
   "metadata": {
    "id": "YBRHMdbetqKB"
   },
   "outputs": [],
   "source": [
    "s = (\"Good muffins cost $3.88\\nin New York.  Please buy me\\n\"\n",
    "      \"two of them.\\n\\nThanks.\")\n",
    "s2 = (\"Alas, it has not rained today. When, do you think, \"\n",
    "      \"will it rain again?\")\n",
    "s3 = (\"<p>Although this is <b>not</b> the case here, we must \"\n",
    "      \"not relax our vigilance!</p>\")"
   ]
  },
  {
   "cell_type": "code",
   "execution_count": null,
   "metadata": {
    "id": "KJbaT_KxtqKB"
   },
   "outputs": [],
   "source": [
    "s2"
   ]
  },
  {
   "cell_type": "code",
   "execution_count": null,
   "metadata": {
    "id": "CHY4sfVGtqKB"
   },
   "outputs": [],
   "source": [
    "nltk.regexp_tokenize(s2, r'[,\\.\\?!\"]\\s*', gaps=True)"
   ]
  },
  {
   "cell_type": "markdown",
   "metadata": {
    "id": "3JyJDu507p-V"
   },
   "source": [
    "What happened after applying the above RegEx tokenizer to the input string?\n",
    "\n",
    "Ans:"
   ]
  },
  {
   "cell_type": "code",
   "execution_count": null,
   "metadata": {
    "id": "pl5yqQBGtqKB"
   },
   "outputs": [],
   "source": [
    "s3"
   ]
  },
  {
   "cell_type": "code",
   "execution_count": null,
   "metadata": {
    "id": "uaqFVGG4tqKB"
   },
   "outputs": [],
   "source": [
    "nltk.regexp_tokenize(s3, r'</?.>', gaps=False)"
   ]
  },
  {
   "cell_type": "markdown",
   "metadata": {
    "id": "AHZJ-7YE76Ri"
   },
   "source": [
    "What happened after applying the above RegEx tokenizer to the input string?\n",
    "\n",
    "Ans:"
   ]
  },
  {
   "cell_type": "code",
   "execution_count": null,
   "metadata": {
    "id": "bpgMNb-OtqKC"
   },
   "outputs": [],
   "source": [
    "nltk.regexp_tokenize(s3, r'</?.>', gaps=True)"
   ]
  },
  {
   "cell_type": "markdown",
   "metadata": {
    "id": "fPqzBG127619"
   },
   "source": [
    "What happened after applying the above RegEx tokenizer to the input string?\n",
    "\n",
    "Ans:"
   ]
  }
 ],
 "metadata": {
  "colab": {
   "provenance": []
  },
  "kernelspec": {
   "display_name": "Python 3 (ipykernel)",
   "language": "python",
   "name": "python3"
  },
  "language_info": {
   "codemirror_mode": {
    "name": "ipython",
    "version": 3
   },
   "file_extension": ".py",
   "mimetype": "text/x-python",
   "name": "python",
   "nbconvert_exporter": "python",
   "pygments_lexer": "ipython3",
   "version": "3.13.5"
  },
  "vscode": {
   "interpreter": {
    "hash": "aee8b7b246df8f9039afb4144a1f6fd8d2ca17a180786b69acc140d282b71a49"
   }
  }
 },
 "nbformat": 4,
 "nbformat_minor": 4
}
