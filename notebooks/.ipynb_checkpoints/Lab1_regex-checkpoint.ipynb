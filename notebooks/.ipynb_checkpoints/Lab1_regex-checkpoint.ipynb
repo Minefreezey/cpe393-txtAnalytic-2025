{
 "cells": [
  {
   "cell_type": "markdown",
   "metadata": {},
   "source": [
    "# Lab1 RegEx\n",
    "## 65070501050 | Wongsatorn Sungsilapawech"
   ]
  },
  {
   "cell_type": "markdown",
   "metadata": {
    "id": "1UetmBnBtqJ8"
   },
   "source": [
    "# 1. Loading data"
   ]
  },
  {
   "cell_type": "code",
   "execution_count": 1,
   "metadata": {
    "id": "svn1qSw2tqJ-"
   },
   "outputs": [
    {
     "name": "stderr",
     "output_type": "stream",
     "text": [
      "[nltk_data] Downloading package punkt_tab to /home/jovyan/nltk_data...\n",
      "[nltk_data]   Package punkt_tab is already up-to-date!\n"
     ]
    }
   ],
   "source": [
    "import nltk\n",
    "nltk.download('punkt_tab')\n",
    "# nltk.download() #for the missing library\n",
    "f = open('books.txt', encoding='utf-8')\n",
    "raw = f.read()\n",
    "tokens = nltk.word_tokenize(raw)"
   ]
  },
  {
   "cell_type": "code",
   "execution_count": 2,
   "metadata": {
    "id": "nf0L1yoGtqJ_"
   },
   "outputs": [
    {
     "name": "stdout",
     "output_type": "stream",
     "text": [
      "[',', 'eating', 'banquets', 'in', 'the', 'Great', 'Hall', ',', 'sleep\\xading', 'in', 'his', 'four-poster', 'bed', 'in', 'the', 'tower', 'dormitory', ',', 'visiting', 'the', 'gamekeeper', ',', 'Hagrid', ',', 'in', 'his', 'cabin', 'next', 'to', 'the', 'Forbidden', 'Forest', 'in', 'the', 'grounds', ',', 'and', ',', 'especially', ',', 'Quidditch', ',', 'the', 'most', 'popular', 'sport', 'in', 'the', 'wizarding', 'world', '(', 'six', 'tall', 'goal', 'posts', ',', 'four', 'flying', 'balls', ',', 'and', 'four\\xadteen', 'players', 'on', 'broomsticks', ')', '.', 'All', 'Harry', '’', 's', 'spellbooks', ',', 'his', 'wand', ',', 'robes', ',', 'cauldron', ',', 'and', 'top-of-the-line', 'Nimbus', 'Two', 'Thousand', 'broomstick', 'had', 'been', 'locked', 'in', 'a', 'cupboard', 'under', 'the', 'stairs', 'by', 'Uncle', 'Vernon', 'the', 'instant']\n"
     ]
    }
   ],
   "source": [
    "print(tokens[1000:1100])"
   ]
  },
  {
   "cell_type": "markdown",
   "metadata": {
    "id": "4fD14zKatqJ_"
   },
   "source": [
    "# 2. Regular expression"
   ]
  },
  {
   "cell_type": "markdown",
   "metadata": {},
   "source": [
    "**NOTE** **(READ BEFORE MARKING)**\n",
    "\n",
    "The answer of **\"What kind of input that matches\"** can determine the answer. So the condition that doesn't match will be considered as **\"What do not?\"**. This is to avoid redundant answer that you should known by reading the matching condition"
   ]
  },
  {
   "cell_type": "code",
   "execution_count": 3,
   "metadata": {
    "id": "jqFlstJ5tqJ_"
   },
   "outputs": [],
   "source": [
    "tokens = [w.lower() for w in tokens]"
   ]
  },
  {
   "cell_type": "code",
   "execution_count": 7,
   "metadata": {
    "id": "RBj9GUiitqKA"
   },
   "outputs": [
    {
     "data": {
      "text/plain": [
       "['reserved', 'published', 'registered', 'related', 'reproduced']"
      ]
     },
     "execution_count": 7,
     "metadata": {},
     "output_type": "execute_result"
    }
   ],
   "source": [
    "import re\n",
    "\n",
    "[w for w in tokens if re.search('ed$', w)][0:5]"
   ]
  },
  {
   "cell_type": "markdown",
   "metadata": {
    "id": "Pae2H5xm3iwU"
   },
   "source": [
    "What kind of input that matches, and what do not? Also, give a brief explanation.\n",
    "\n",
    "Ans:\n",
    "> All the tokens that end with `ed`."
   ]
  },
  {
   "cell_type": "code",
   "execution_count": 27,
   "metadata": {
    "id": "EJnFJbYNtqKA"
   },
   "outputs": [
    {
     "data": {
      "text/plain": [
       "['dejected', 'adjusted', 'rejected', 'rejected', 'dejected']"
      ]
     },
     "execution_count": 27,
     "metadata": {},
     "output_type": "execute_result"
    }
   ],
   "source": [
    "[w for w in tokens if re.search('^..j..t..$', w)][0:5]"
   ]
  },
  {
   "cell_type": "markdown",
   "metadata": {
    "id": "DqBuWKiY3wr3"
   },
   "source": [
    "What kind of input that matches, and what do not? Also, give a brief explanation.\n",
    "\n",
    "Ans:\n",
    "> The tokens which have a length of 8 character, having 3rd letter of `j`, and 6th letter of `t`"
   ]
  },
  {
   "cell_type": "code",
   "execution_count": 13,
   "metadata": {
    "id": "xx817PT4tqKA"
   },
   "outputs": [
    {
     "data": {
      "text/plain": [
       "['sport', 'sports', 'sport', 'sport', 'sports']"
      ]
     },
     "execution_count": 13,
     "metadata": {},
     "output_type": "execute_result"
    }
   ],
   "source": [
    "[w for w in tokens if re.search('^spo.ts?$', w)][0:5]"
   ]
  },
  {
   "cell_type": "markdown",
   "metadata": {
    "id": "GGPqQ1cw4B0F"
   },
   "source": [
    "What kind of input that matches, and what do not? Also, give a brief explanation.\n",
    "\n",
    "Ans:\n",
    "> The tokens that **Starts** with `spo` followed by an arbitrary character. And **ends** with `t` followed by an optional character `s`."
   ]
  },
  {
   "cell_type": "code",
   "execution_count": 15,
   "metadata": {
    "id": "HfL6pzmdtqKA"
   },
   "outputs": [
    {
     "data": {
      "text/plain": [
       "['chamber', 'by', 'by', 'books', 'for']"
      ]
     },
     "execution_count": 15,
     "metadata": {},
     "output_type": "execute_result"
    }
   ],
   "source": [
    "[w for w in tokens if re.search('^[b-f]', w)][0:5]"
   ]
  },
  {
   "cell_type": "markdown",
   "metadata": {
    "id": "OBc81Lun4CyE"
   },
   "source": [
    "What kind of input that matches, and what do not? Also, give a brief explanation.\n",
    "\n",
    "Ans:\n",
    "\n",
    "> Any tokens which starts with any character ranging from `b` to `f` (`b, c, d, e, f`)"
   ]
  },
  {
   "cell_type": "code",
   "execution_count": 17,
   "metadata": {
    "id": "E3zlGVrVtqKB"
   },
   "outputs": [
    {
     "data": {
      "text/plain": [
       "['but', 'but', 'far', 'but', 'but']"
      ]
     },
     "execution_count": 17,
     "metadata": {},
     "output_type": "execute_result"
    }
   ],
   "source": [
    "[w for w in tokens if re.search('^[bdf][aue][rts]$', w)][0:5]"
   ]
  },
  {
   "cell_type": "markdown",
   "metadata": {
    "id": "ug7-POss4DpM"
   },
   "source": [
    "What kind of input that matches, and what do not? Also, give a brief explanation.\n",
    "\n",
    "Ans:\n",
    "> Any three-character tokens that follwed the rule:\n",
    "> * The first (starting) character can be any character in set of (`b, d, f`)\n",
    "> * The second character can be any character in set of (`a, u, e`)\n",
    "> * The third (ending) character can be any character in set of (`r, t, s`)"
   ]
  },
  {
   "cell_type": "code",
   "execution_count": 18,
   "metadata": {
    "id": "pdEYsV4FtqKB"
   },
   "outputs": [
    {
     "data": {
      "text/plain": [
       "{'nooo',\n",
       " 'noooo',\n",
       " 'nooooo',\n",
       " 'noooooo',\n",
       " 'nooooooo',\n",
       " 'nooooooooo',\n",
       " 'noooooooooooo',\n",
       " 'nooooooooooooooooo'}"
      ]
     },
     "execution_count": 18,
     "metadata": {},
     "output_type": "execute_result"
    }
   ],
   "source": [
    "set([w for w in tokens if re.search('noo+$', w)])"
   ]
  },
  {
   "cell_type": "markdown",
   "metadata": {
    "id": "cFBSfhgI4E2G"
   },
   "source": [
    "What kind of input that matches, and what do not? Also, give a brief explanation.\n",
    "\n",
    "Ans:\n",
    "\n",
    "> The tokens consisting `noo` with at **at least one** extending `o` as ending (such as, `nooo` [`noo` with `o`])"
   ]
  },
  {
   "cell_type": "code",
   "execution_count": 26,
   "metadata": {
    "id": "F-pZ5jRRtqKB"
   },
   "outputs": [
    {
     "data": {
      "text/plain": [
       "{'albino',\n",
       " 'dunno',\n",
       " 'gemino',\n",
       " 'inferno',\n",
       " 'n-no',\n",
       " 'no',\n",
       " 'nooo',\n",
       " 'noooo',\n",
       " 'nooooo',\n",
       " 'noooooo',\n",
       " 'nooooooo',\n",
       " 'nooooooooo',\n",
       " 'noooooooooooo',\n",
       " 'nooooooooooooooooo',\n",
       " 'oppugno',\n",
       " 'palomino',\n",
       " 'patrono',\n",
       " 'piano',\n",
       " 'pi\\xadano',\n",
       " 'rhino',\n",
       " 'xeno'}"
      ]
     },
     "execution_count": 26,
     "metadata": {},
     "output_type": "execute_result"
    }
   ],
   "source": [
    "set([w for w in tokens if re.search('noo*$', w)])"
   ]
  },
  {
   "cell_type": "markdown",
   "metadata": {
    "id": "u04l5n-K4JPn"
   },
   "source": [
    "What kind of input that matches, and what do not? Also, give a brief explanation.\n",
    "\n",
    "Ans:\n",
    "\n",
    "> Any tokens that ends with `no` with zero or more extending `o`"
   ]
  },
  {
   "cell_type": "code",
   "execution_count": 31,
   "metadata": {
    "id": "2wYcwl4rtqKB"
   },
   "outputs": [
    {
     "name": "stderr",
     "output_type": "stream",
     "text": [
      "<>:1: SyntaxWarning: invalid escape sequence '\\.'\n",
      "<>:1: SyntaxWarning: invalid escape sequence '\\.'\n",
      "/tmp/ipykernel_14330/1208686657.py:1: SyntaxWarning: invalid escape sequence '\\.'\n",
      "  [w for w in tokens if re.search('\\.+$', w)][0:5]\n"
     ]
    },
    {
     "data": {
      "text/plain": [
       "['j.', 'k.', 'a.', 'p.', 'f.']"
      ]
     },
     "execution_count": 31,
     "metadata": {},
     "output_type": "execute_result"
    }
   ],
   "source": [
    "[w for w in tokens if re.search('\\.+$', w)][0:5]"
   ]
  },
  {
   "cell_type": "markdown",
   "metadata": {
    "id": "irm7CgvX4KHZ"
   },
   "source": [
    "What kind of input that matches, and what do not? Also, give a brief explanation.\n",
    "\n",
    "Ans:\n",
    "> Any tokens that ends with a one or more period (`.`)"
   ]
  },
  {
   "cell_type": "code",
   "execution_count": 35,
   "metadata": {
    "id": "7-6LdLWstqKB"
   },
   "outputs": [
    {
     "name": "stderr",
     "output_type": "stream",
     "text": [
      "<>:1: SyntaxWarning: invalid escape sequence '\\.'\n",
      "<>:1: SyntaxWarning: invalid escape sequence '\\.'\n",
      "/tmp/ipykernel_14330/1844296225.py:1: SyntaxWarning: invalid escape sequence '\\.'\n",
      "  [w for w in tokens if re.search('^[A-Z]+\\.$', w)]\n"
     ]
    },
    {
     "data": {
      "text/plain": [
       "[]"
      ]
     },
     "execution_count": 35,
     "metadata": {},
     "output_type": "execute_result"
    }
   ],
   "source": [
    "[w for w in tokens if re.search('^[A-Z]+\\.$', w)]"
   ]
  },
  {
   "cell_type": "markdown",
   "metadata": {
    "id": "7VUNwZ0R4K9H"
   },
   "source": [
    "What kind of input that matches, and what do not? Also, give a brief explanation.\n",
    "\n",
    "Ans:\n",
    "> Tokens that starts with any repetitive captital alphabet and ends with a period (`.`) *(which does not have any)*"
   ]
  },
  {
   "cell_type": "code",
   "execution_count": 37,
   "metadata": {
    "id": "h8grUWgWtqKB"
   },
   "outputs": [
    {
     "data": {
      "text/plain": [
       "['1999', '1999', '1920', '1999', '1999']"
      ]
     },
     "execution_count": 37,
     "metadata": {},
     "output_type": "execute_result"
    }
   ],
   "source": [
    "[w for w in tokens if re.search('^[0-9]{4}$', w)][0:5]"
   ]
  },
  {
   "cell_type": "markdown",
   "metadata": {
    "id": "vCbnvhvg4NeT"
   },
   "source": [
    "What kind of input that matches, and what do not? Also, give a brief explanation.\n",
    "\n",
    "Ans:\n",
    "> Four-character numerical token (including one with a preceeding zero)"
   ]
  },
  {
   "cell_type": "code",
   "execution_count": 40,
   "metadata": {
    "id": "AanZKHmctqKB"
   },
   "outputs": [
    {
     "data": {
      "text/plain": [
       "['overtaking', 'slamming', 'dubbed', 'drawled', 'mastering']"
      ]
     },
     "execution_count": 40,
     "metadata": {},
     "output_type": "execute_result"
    }
   ],
   "source": [
    "list(set([w for w in tokens if re.search('(ed|ing)$', w)]))[0:5]"
   ]
  },
  {
   "cell_type": "markdown",
   "metadata": {
    "id": "bXgCHKQ_4PHd"
   },
   "source": [
    "What kind of input that matches, and what do not? Also, give a brief explanation.\n",
    "\n",
    "Ans:\n",
    "> Any tokens that ends with **either** `ed` or `ing`"
   ]
  },
  {
   "cell_type": "markdown",
   "metadata": {
    "id": "yXfRNGq3tqKB"
   },
   "source": [
    "# 3. Regular expression tokenizer"
   ]
  },
  {
   "cell_type": "markdown",
   "metadata": {
    "id": "d1v_GcUZtqKB"
   },
   "source": [
    "## 3.1 Basic regex tokenizer"
   ]
  },
  {
   "cell_type": "code",
   "execution_count": 41,
   "metadata": {
    "id": "YBRHMdbetqKB"
   },
   "outputs": [],
   "source": [
    "s = (\"Good muffins cost $3.88\\nin New York.  Please buy me\\n\"\n",
    "      \"two of them.\\n\\nThanks.\")\n",
    "s2 = (\"Alas, it has not rained today. When, do you think, \"\n",
    "      \"will it rain again?\")\n",
    "s3 = (\"<p>Although this is <b>not</b> the case here, we must \"\n",
    "      \"not relax our vigilance!</p>\")"
   ]
  },
  {
   "cell_type": "code",
   "execution_count": 42,
   "metadata": {
    "id": "KJbaT_KxtqKB"
   },
   "outputs": [
    {
     "data": {
      "text/plain": [
       "'Alas, it has not rained today. When, do you think, will it rain again?'"
      ]
     },
     "execution_count": 42,
     "metadata": {},
     "output_type": "execute_result"
    }
   ],
   "source": [
    "s2"
   ]
  },
  {
   "cell_type": "code",
   "execution_count": 48,
   "metadata": {
    "id": "CHY4sfVGtqKB"
   },
   "outputs": [
    {
     "data": {
      "text/plain": [
       "['Alas',\n",
       " 'it has not rained today',\n",
       " 'When',\n",
       " 'do you think',\n",
       " 'will it rain again']"
      ]
     },
     "execution_count": 48,
     "metadata": {},
     "output_type": "execute_result"
    }
   ],
   "source": [
    "nltk.regexp_tokenize(s2, r'[,\\.\\?!\"]\\s*', gaps=True)"
   ]
  },
  {
   "cell_type": "markdown",
   "metadata": {
    "id": "3JyJDu507p-V"
   },
   "source": [
    "What happened after applying the above RegEx tokenizer to the input string?\n",
    "\n",
    "Ans:\n",
    "> It will find any character within the set of\n",
    "> * `,`\n",
    "> * `.`\n",
    "> * `?`\n",
    "> * `!`\n",
    "> \n",
    "> And then followed by arbritary length of ` ` (Whitespace character)\n",
    ">\n",
    "> The syntax `gaps=True` means that it will match the tokens that are **BETWEEN** the pattern"
   ]
  },
  {
   "cell_type": "code",
   "execution_count": 44,
   "metadata": {
    "id": "pl5yqQBGtqKB"
   },
   "outputs": [
    {
     "data": {
      "text/plain": [
       "'<p>Although this is <b>not</b> the case here, we must not relax our vigilance!</p>'"
      ]
     },
     "execution_count": 44,
     "metadata": {},
     "output_type": "execute_result"
    }
   ],
   "source": [
    "s3"
   ]
  },
  {
   "cell_type": "code",
   "execution_count": 45,
   "metadata": {
    "id": "uaqFVGG4tqKB"
   },
   "outputs": [
    {
     "data": {
      "text/plain": [
       "['<p>', '<b>', '</b>', '</p>']"
      ]
     },
     "execution_count": 45,
     "metadata": {},
     "output_type": "execute_result"
    }
   ],
   "source": [
    "nltk.regexp_tokenize(s3, r'</?.>', gaps=False)"
   ]
  },
  {
   "cell_type": "markdown",
   "metadata": {
    "id": "AHZJ-7YE76Ri"
   },
   "source": [
    "What happened after applying the above RegEx tokenizer to the input string?\n",
    "\n",
    "Ans:\n",
    "\n",
    "> It will find any characters containing `<` followed by optional `/` then any character and  (for example, `<s>`, `</g>`)\n",
    ">\n",
    "> Note that the syntax `gaps = False` means that it will match that token that are **MATCHED** to the pattern"
   ]
  },
  {
   "cell_type": "code",
   "execution_count": 46,
   "metadata": {
    "id": "bpgMNb-OtqKC"
   },
   "outputs": [
    {
     "data": {
      "text/plain": [
       "['Although this is ',\n",
       " 'not',\n",
       " ' the case here, we must not relax our vigilance!']"
      ]
     },
     "execution_count": 46,
     "metadata": {},
     "output_type": "execute_result"
    }
   ],
   "source": [
    "nltk.regexp_tokenize(s3, r'</?.>', gaps=True)"
   ]
  },
  {
   "cell_type": "markdown",
   "metadata": {
    "id": "fPqzBG127619"
   },
   "source": [
    "What happened after applying the above RegEx tokenizer to the input string?\n",
    "\n",
    "Ans:\n",
    "\n",
    "> It will find any characters containing `<` followed by optional `/` then any character and  (for example, `<s>`, `</g>`)\n",
    ">\n",
    "> Note that the syntax `gaps=True` means that it will match the tokens that are **BETWEEN** the pattern. So instead of returning `<p>`, it returns the string that are between them."
   ]
  }
 ],
 "metadata": {
  "colab": {
   "provenance": []
  },
  "kernelspec": {
   "display_name": "Python 3 (ipykernel)",
   "language": "python",
   "name": "python3"
  },
  "language_info": {
   "codemirror_mode": {
    "name": "ipython",
    "version": 3
   },
   "file_extension": ".py",
   "mimetype": "text/x-python",
   "name": "python",
   "nbconvert_exporter": "python",
   "pygments_lexer": "ipython3",
   "version": "3.13.5"
  },
  "vscode": {
   "interpreter": {
    "hash": "aee8b7b246df8f9039afb4144a1f6fd8d2ca17a180786b69acc140d282b71a49"
   }
  }
 },
 "nbformat": 4,
 "nbformat_minor": 4
}
